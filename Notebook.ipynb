{
 "cells": [
  {
   "cell_type": "code",
   "execution_count": 2,
   "metadata": {},
   "outputs": [],
   "source": [
    "import logging\n",
    "\n",
    "from sklearn.model_selection import train_test_split\n",
    "from sklearn.datasets import make_classification\n",
    "from sklearn.datasets import make_regression\n",
    "from scipy.spatial import distance\n",
    "\n",
    "import pandas as pd"
   ]
  },
  {
   "cell_type": "code",
   "execution_count": 3,
   "metadata": {},
   "outputs": [],
   "source": [
    "from metrics.metrics import accuracy\n",
    "import knn\n",
    "\n",
    "logging.basicConfig(level=logging.DEBUG)"
   ]
  },
  {
   "cell_type": "code",
   "execution_count": 4,
   "metadata": {},
   "outputs": [],
   "source": [
    "# Generate a random binary classification problem.\n",
    "#X, y = make_classification(\n",
    "#    n_samples=1000, n_features=10, n_informative=5, random_state=1111, n_classes=2, class_sep=1.75\n",
    "#)\n",
    "\n",
    "# Convert y to {-1, 1}\n",
    "#y = (y * 2) - 1\n",
    "#X_train, X_test, y_train, y_test = train_test_split(X, y, test_size=0.2, random_state=1111)"
   ]
  },
  {
   "cell_type": "code",
   "execution_count": 6,
   "metadata": {},
   "outputs": [],
   "source": [
    "from sklearn.datasets import fetch_openml\n",
    "\n",
    "dataset1 = fetch_openml(data_id=37)\n",
    "\n",
    "X = dataset1.data\n",
    "y = dataset1.target\n",
    "\n",
    "# reduze the size of the dataset\n",
    "#X = X[:700]\n",
    "#y = y[:700]\n",
    "\n",
    "X_train, X_test, y_train, y_test = train_test_split(X, y, test_size=0.2, random_state=1111)"
   ]
  },
  {
   "cell_type": "code",
   "execution_count": 7,
   "metadata": {},
   "outputs": [
    {
     "name": "stdout",
     "output_type": "stream",
     "text": [
      "0 :: preg int64\n",
      "1 :: plas int64\n",
      "2 :: pres int64\n",
      "3 :: skin int64\n",
      "4 :: insu int64\n",
      "5 :: mass float64\n",
      "6 :: pedi float64\n",
      "7 :: age int64\n"
     ]
    }
   ],
   "source": [
    "#print(dataset1)\n",
    "feature_names = X.columns\n",
    "id = 0\n",
    "for feature in feature_names:\n",
    "    print(str(id) + \" :: \" + feature + \" \" + str(X[feature].dtype))\n",
    "    id = id + 1\n"
   ]
  },
  {
   "cell_type": "code",
   "execution_count": 8,
   "metadata": {},
   "outputs": [
    {
     "name": "stdout",
     "output_type": "stream",
     "text": [
      "768\n",
      "0      tested_positive\n",
      "1      tested_negative\n",
      "2      tested_positive\n",
      "3      tested_negative\n",
      "4      tested_positive\n",
      "            ...       \n",
      "763    tested_negative\n",
      "764    tested_negative\n",
      "765    tested_negative\n",
      "766    tested_positive\n",
      "767    tested_negative\n",
      "Name: class, Length: 768, dtype: category\n",
      "Categories (2, object): ['tested_negative', 'tested_positive']\n"
     ]
    }
   ],
   "source": [
    "print(len(X))\n",
    "print(y)\n"
   ]
  },
  {
   "cell_type": "code",
   "execution_count": 9,
   "metadata": {},
   "outputs": [
    {
     "name": "stderr",
     "output_type": "stream",
     "text": [
      "DEBUG:matplotlib:matplotlib data path: /home/francisco/pythonEnv/ac/lib/python3.11/site-packages/matplotlib/mpl-data\n",
      "DEBUG:matplotlib:CONFIGDIR=/home/francisco/.config/matplotlib\n",
      "DEBUG:matplotlib:interactive is False\n",
      "DEBUG:matplotlib:platform is linux\n",
      "DEBUG:matplotlib:CACHEDIR=/home/francisco/.cache/matplotlib\n",
      "DEBUG:matplotlib.font_manager:Using fontManager instance from /home/francisco/.cache/matplotlib/fontlist-v330.json\n"
     ]
    },
    {
     "data": {
      "image/png": "[encoded data removed]",
      "text/plain": [
       "<Figure size 640x480 with 2 Axes>"
      ]
     },
     "metadata": {},
     "output_type": "display_data"
    }
   ],
   "source": [
    "import matplotlib.pyplot as plt\n",
    "\n",
    "logging.getLogger('matplotlib').setLevel(logging.WARNING)\n",
    "\n",
    "def draw_data(X, y, xn, xy):\n",
    "    # Convert y to numeric values if it's not already\n",
    "    y = pd.to_numeric(y, errors='coerce')\n",
    "    X = X.dropna(subset=[X.columns[xn], X.columns[xy]])\n",
    "\n",
    "    # Create a 2D histogram\n",
    "    plt.hist2d(X.iloc[:, xn], X.iloc[:, xy], bins=12, cmap='viridis')\n",
    "    plt.title('Dataset Visualization')\n",
    "    plt.xlabel(X.columns[xn])\n",
    "    plt.ylabel(X.columns[xy])\n",
    "    plt.colorbar(label='Count')\n",
    "    plt.show()\n",
    "\n",
    "draw_data(X, y, 0, 1)"
   ]
  },
  {
   "cell_type": "code",
   "execution_count": 11,
   "metadata": {},
   "outputs": [
    {
     "name": "stdout",
     "output_type": "stream",
     "text": [
      "preg      int64\n",
      "plas      int64\n",
      "pres      int64\n",
      "skin      int64\n",
      "insu      int64\n",
      "mass    float64\n",
      "pedi    float64\n",
      "age       int64\n",
      "dtype: object\n",
      "-------------------\n"
     ]
    }
   ],
   "source": [
    "def preprocess_data(X, y):\n",
    "    # Convert categorical variables to dummy variables\n",
    "    X = pd.get_dummies(X, drop_first=True)\n",
    "    \n",
    "    # Convert bool columns to int\n",
    "    X = X.astype({col: 'int' for col in X.select_dtypes(['bool']).columns})\n",
    "    \n",
    "    # Convert y to numeric, turning non-numeric values into NaN\n",
    "    y = pd.to_numeric(y, errors='coerce')\n",
    "\n",
    "    # Fill NaN values with the most frequent value in the column\n",
    "    y = y.fillna(y.mode()[0])\n",
    "    \n",
    "    return X, y\n",
    "\n",
    "print(X_train.dtypes)\n",
    "\n",
    "print(\"-------------------\")\n",
    "\n",
    "# Preprocess the data\n",
    "#X_train, y_train = preprocess_data(X_train, y_train)\n",
    "#X_test, y_test = preprocess_data(X_test, y_test)\n",
    "\n",
    "#print(X_train.dtypes)\n",
    "\n",
    "\n"
   ]
  },
  {
   "cell_type": "code",
   "execution_count": 13,
   "metadata": {},
   "outputs": [],
   "source": [
    "model = knn.KNNClassifier(k=5, distance_func=distance.euclidean)\n",
    "\n",
    "# cut the model into the first 1000 parts\n",
    "\n",
    "\n",
    "def classification():\n",
    "    model.fit(X_train, y_train)\n",
    "    predictions = model.predict(X_test)\n",
    "    print(\"Classification accuracy (RBF): %s\" % ( accuracy(y_test, predictions)))\n",
    "\n",
    "    # Test all the kernels (uncomment the code below)\n",
    "    #for kernel in [RBF(gamma=0.1), Linear()]:\n",
    "    #    model = SVM(max_iter=500, kernel=kernel, C=0.6)\n",
    "    #    model.fit(X_train, y_train)\n",
    "    #    predictions = model.predict(X_test)\n",
    "    #    print(\"Classification accuracy (%s): %s\" % (kernel, accuracy(y_test, predictions)))"
   ]
  },
  {
   "cell_type": "code",
   "execution_count": 14,
   "metadata": {},
   "outputs": [
    {
     "name": "stdout",
     "output_type": "stream",
     "text": [
      "Classification accuracy (RBF): 0.6818181818181819\n"
     ]
    }
   ],
   "source": [
    "classification()"
   ]
  },
  {
   "cell_type": "code",
   "execution_count": 15,
   "metadata": {},
   "outputs": [],
   "source": [
    "import numpy as np\n",
    "\n",
    "def train_plot(X, y, model, feature_index1, feature_index2):\n",
    "    # Create a mesh grid for our plot\n",
    "    h = .02  # step size in the mesh\n",
    "    x_min, x_max = X.iloc[:, feature_index1].min() - 1, X.iloc[:, feature_index1].max() + 1\n",
    "    y_min, y_max = X.iloc[:, feature_index2].min() - 1, X.iloc[:, feature_index2].max() + 1\n",
    "    xx, yy = np.meshgrid(np.arange(x_min, x_max, h), np.arange(y_min, y_max, h))\n",
    "\n",
    "    # Prepare grid for prediction by adding original features\n",
    "    grid = np.c_[xx.ravel(), yy.ravel()]\n",
    "    for i in range(X.shape[1]):\n",
    "        if i not in [feature_index1, feature_index2]:\n",
    "            grid = np.c_[grid, np.full(grid.shape[0], X.iloc[:, i].mean())]\n",
    "\n",
    "    # Use the model to predict the output for each point on the grid\n",
    "    Z = model.predict(grid)\n",
    "    Z = Z.reshape(xx.shape)\n",
    "\n",
    "    # Plot the contour plot\n",
    "    plt.contourf(xx, yy, Z, cmap=plt.cm.coolwarm, alpha=0.8)\n",
    "\n",
    "    # Plot also the training points\n",
    "    plt.scatter(X.iloc[:, feature_index1], X.iloc[:, feature_index2], c=y, cmap=plt.cm.coolwarm)\n",
    "    plt.xlabel('Feature ' + str(feature_index1))\n",
    "    plt.ylabel('Feature ' + str(feature_index2))\n",
    "    plt.xlim(xx.min(), xx.max())\n",
    "    plt.ylim(yy.min(), yy.max())\n",
    "    plt.xticks(())\n",
    "    plt.yticks(())\n",
    "    plt.title('SVM Decision Boundary (RBF Kernel)')\n",
    "    plt.show()"
   ]
  },
  {
   "cell_type": "code",
   "execution_count": 16,
   "metadata": {},
   "outputs": [
    {
     "ename": "KeyboardInterrupt",
     "evalue": "",
     "output_type": "error",
     "traceback": [
      "\u001b[0;31m---------------------------------------------------------------------------\u001b[0m",
      "\u001b[0;31mKeyboardInterrupt\u001b[0m                         Traceback (most recent call last)",
      "Cell \u001b[0;32mIn[16], line 1\u001b[0m\n\u001b[0;32m----> 1\u001b[0m \u001b[43mtrain_plot\u001b[49m\u001b[43m(\u001b[49m\u001b[43mX_train\u001b[49m\u001b[43m,\u001b[49m\u001b[43m \u001b[49m\u001b[43my_train\u001b[49m\u001b[43m,\u001b[49m\u001b[43m \u001b[49m\u001b[43mmodel\u001b[49m\u001b[43m,\u001b[49m\u001b[43m \u001b[49m\u001b[38;5;241;43m0\u001b[39;49m\u001b[43m,\u001b[49m\u001b[43m \u001b[49m\u001b[38;5;241;43m1\u001b[39;49m\u001b[43m)\u001b[49m\n",
      "Cell \u001b[0;32mIn[15], line 17\u001b[0m, in \u001b[0;36mtrain_plot\u001b[0;34m(X, y, model, feature_index1, feature_index2)\u001b[0m\n\u001b[1;32m     14\u001b[0m         grid \u001b[38;5;241m=\u001b[39m np\u001b[38;5;241m.\u001b[39mc_[grid, np\u001b[38;5;241m.\u001b[39mfull(grid\u001b[38;5;241m.\u001b[39mshape[\u001b[38;5;241m0\u001b[39m], X\u001b[38;5;241m.\u001b[39miloc[:, i]\u001b[38;5;241m.\u001b[39mmean())]\n\u001b[1;32m     16\u001b[0m \u001b[38;5;66;03m# Use the model to predict the output for each point on the grid\u001b[39;00m\n\u001b[0;32m---> 17\u001b[0m Z \u001b[38;5;241m=\u001b[39m \u001b[43mmodel\u001b[49m\u001b[38;5;241;43m.\u001b[39;49m\u001b[43mpredict\u001b[49m\u001b[43m(\u001b[49m\u001b[43mgrid\u001b[49m\u001b[43m)\u001b[49m\n\u001b[1;32m     18\u001b[0m Z \u001b[38;5;241m=\u001b[39m Z\u001b[38;5;241m.\u001b[39mreshape(xx\u001b[38;5;241m.\u001b[39mshape)\n\u001b[1;32m     20\u001b[0m \u001b[38;5;66;03m# Plot the contour plot\u001b[39;00m\n",
      "File \u001b[0;32m~/Desktop/3ano/2sem/Aprendizagem_Computacional I/SVM-Variation/base/base.py:58\u001b[0m, in \u001b[0;36mBaseEstimator.predict\u001b[0;34m(self, X)\u001b[0m\n\u001b[1;32m     55\u001b[0m     X \u001b[38;5;241m=\u001b[39m np\u001b[38;5;241m.\u001b[39marray(X)\n\u001b[1;32m     57\u001b[0m \u001b[38;5;28;01mif\u001b[39;00m \u001b[38;5;28mself\u001b[39m\u001b[38;5;241m.\u001b[39mX \u001b[38;5;129;01mis\u001b[39;00m \u001b[38;5;129;01mnot\u001b[39;00m \u001b[38;5;28;01mNone\u001b[39;00m \u001b[38;5;129;01mor\u001b[39;00m \u001b[38;5;129;01mnot\u001b[39;00m \u001b[38;5;28mself\u001b[39m\u001b[38;5;241m.\u001b[39mfit_required:\n\u001b[0;32m---> 58\u001b[0m     \u001b[38;5;28;01mreturn\u001b[39;00m \u001b[38;5;28;43mself\u001b[39;49m\u001b[38;5;241;43m.\u001b[39;49m\u001b[43m_predict\u001b[49m\u001b[43m(\u001b[49m\u001b[43mX\u001b[49m\u001b[43m)\u001b[49m\n\u001b[1;32m     59\u001b[0m \u001b[38;5;28;01melse\u001b[39;00m:\n\u001b[1;32m     60\u001b[0m     \u001b[38;5;28;01mraise\u001b[39;00m \u001b[38;5;167;01mValueError\u001b[39;00m(\u001b[38;5;124m\"\u001b[39m\u001b[38;5;124mYou must call `fit` before `predict`\u001b[39m\u001b[38;5;124m\"\u001b[39m)\n",
      "File \u001b[0;32m~/Desktop/3ano/2sem/Aprendizagem_Computacional I/SVM-Variation/knn.py:32\u001b[0m, in \u001b[0;36mKNNBase._predict\u001b[0;34m(self, X)\u001b[0m\n\u001b[1;32m     31\u001b[0m \u001b[38;5;28;01mdef\u001b[39;00m \u001b[38;5;21m_predict\u001b[39m(\u001b[38;5;28mself\u001b[39m, X\u001b[38;5;241m=\u001b[39m\u001b[38;5;28;01mNone\u001b[39;00m):\n\u001b[0;32m---> 32\u001b[0m     predictions \u001b[38;5;241m=\u001b[39m \u001b[43m[\u001b[49m\u001b[38;5;28;43mself\u001b[39;49m\u001b[38;5;241;43m.\u001b[39;49m\u001b[43m_predict_x\u001b[49m\u001b[43m(\u001b[49m\u001b[43mx\u001b[49m\u001b[43m)\u001b[49m\u001b[43m \u001b[49m\u001b[38;5;28;43;01mfor\u001b[39;49;00m\u001b[43m \u001b[49m\u001b[43mx\u001b[49m\u001b[43m \u001b[49m\u001b[38;5;129;43;01min\u001b[39;49;00m\u001b[43m \u001b[49m\u001b[43mX\u001b[49m\u001b[43m]\u001b[49m\n\u001b[1;32m     34\u001b[0m     \u001b[38;5;28;01mreturn\u001b[39;00m np\u001b[38;5;241m.\u001b[39marray(predictions)\n",
      "File \u001b[0;32m~/Desktop/3ano/2sem/Aprendizagem_Computacional I/SVM-Variation/knn.py:32\u001b[0m, in \u001b[0;36m<listcomp>\u001b[0;34m(.0)\u001b[0m\n\u001b[1;32m     31\u001b[0m \u001b[38;5;28;01mdef\u001b[39;00m \u001b[38;5;21m_predict\u001b[39m(\u001b[38;5;28mself\u001b[39m, X\u001b[38;5;241m=\u001b[39m\u001b[38;5;28;01mNone\u001b[39;00m):\n\u001b[0;32m---> 32\u001b[0m     predictions \u001b[38;5;241m=\u001b[39m [\u001b[38;5;28;43mself\u001b[39;49m\u001b[38;5;241;43m.\u001b[39;49m\u001b[43m_predict_x\u001b[49m\u001b[43m(\u001b[49m\u001b[43mx\u001b[49m\u001b[43m)\u001b[49m \u001b[38;5;28;01mfor\u001b[39;00m x \u001b[38;5;129;01min\u001b[39;00m X]\n\u001b[1;32m     34\u001b[0m     \u001b[38;5;28;01mreturn\u001b[39;00m np\u001b[38;5;241m.\u001b[39marray(predictions)\n",
      "File \u001b[0;32m~/Desktop/3ano/2sem/Aprendizagem_Computacional I/SVM-Variation/knn.py:43\u001b[0m, in \u001b[0;36mKNNBase._predict_x\u001b[0;34m(self, x)\u001b[0m\n\u001b[1;32m     40\u001b[0m distances \u001b[38;5;241m=\u001b[39m (\u001b[38;5;28mself\u001b[39m\u001b[38;5;241m.\u001b[39mdistance_func(x, example) \u001b[38;5;28;01mfor\u001b[39;00m example \u001b[38;5;129;01min\u001b[39;00m \u001b[38;5;28mself\u001b[39m\u001b[38;5;241m.\u001b[39mX)\n\u001b[1;32m     42\u001b[0m \u001b[38;5;66;03m# Sort all examples by their distance to x and keep their target value.\u001b[39;00m\n\u001b[0;32m---> 43\u001b[0m neighbors \u001b[38;5;241m=\u001b[39m \u001b[38;5;28msorted\u001b[39m(((dist, target) \u001b[38;5;28;01mfor\u001b[39;00m (dist, target) \u001b[38;5;129;01min\u001b[39;00m \u001b[38;5;28mzip\u001b[39m(distances, \u001b[38;5;28mself\u001b[39m\u001b[38;5;241m.\u001b[39my)), key\u001b[38;5;241m=\u001b[39m\u001b[38;5;28;01mlambda\u001b[39;00m x: x[\u001b[38;5;241m0\u001b[39m])\n\u001b[1;32m     45\u001b[0m \u001b[38;5;66;03m# Get targets of the k-nn and aggregate them (most common one or\u001b[39;00m\n\u001b[1;32m     46\u001b[0m \u001b[38;5;66;03m# average).\u001b[39;00m\n\u001b[1;32m     47\u001b[0m neighbors_targets \u001b[38;5;241m=\u001b[39m [target \u001b[38;5;28;01mfor\u001b[39;00m (_, target) \u001b[38;5;129;01min\u001b[39;00m neighbors[: \u001b[38;5;28mself\u001b[39m\u001b[38;5;241m.\u001b[39mk]]\n",
      "File \u001b[0;32m~/Desktop/3ano/2sem/Aprendizagem_Computacional I/SVM-Variation/knn.py:43\u001b[0m, in \u001b[0;36m<genexpr>\u001b[0;34m(.0)\u001b[0m\n\u001b[1;32m     40\u001b[0m distances \u001b[38;5;241m=\u001b[39m (\u001b[38;5;28mself\u001b[39m\u001b[38;5;241m.\u001b[39mdistance_func(x, example) \u001b[38;5;28;01mfor\u001b[39;00m example \u001b[38;5;129;01min\u001b[39;00m \u001b[38;5;28mself\u001b[39m\u001b[38;5;241m.\u001b[39mX)\n\u001b[1;32m     42\u001b[0m \u001b[38;5;66;03m# Sort all examples by their distance to x and keep their target value.\u001b[39;00m\n\u001b[0;32m---> 43\u001b[0m neighbors \u001b[38;5;241m=\u001b[39m \u001b[38;5;28msorted\u001b[39m(\u001b[43m(\u001b[49m\u001b[43m(\u001b[49m\u001b[43mdist\u001b[49m\u001b[43m,\u001b[49m\u001b[43m \u001b[49m\u001b[43mtarget\u001b[49m\u001b[43m)\u001b[49m\u001b[43m \u001b[49m\u001b[38;5;28;43;01mfor\u001b[39;49;00m\u001b[43m \u001b[49m\u001b[43m(\u001b[49m\u001b[43mdist\u001b[49m\u001b[43m,\u001b[49m\u001b[43m \u001b[49m\u001b[43mtarget\u001b[49m\u001b[43m)\u001b[49m\u001b[43m \u001b[49m\u001b[38;5;129;43;01min\u001b[39;49;00m\u001b[43m \u001b[49m\u001b[38;5;28;43mzip\u001b[39;49m\u001b[43m(\u001b[49m\u001b[43mdistances\u001b[49m\u001b[43m,\u001b[49m\u001b[43m \u001b[49m\u001b[38;5;28;43mself\u001b[39;49m\u001b[38;5;241;43m.\u001b[39;49m\u001b[43my\u001b[49m\u001b[43m)\u001b[49m\u001b[43m)\u001b[49m, key\u001b[38;5;241m=\u001b[39m\u001b[38;5;28;01mlambda\u001b[39;00m x: x[\u001b[38;5;241m0\u001b[39m])\n\u001b[1;32m     45\u001b[0m \u001b[38;5;66;03m# Get targets of the k-nn and aggregate them (most common one or\u001b[39;00m\n\u001b[1;32m     46\u001b[0m \u001b[38;5;66;03m# average).\u001b[39;00m\n\u001b[1;32m     47\u001b[0m neighbors_targets \u001b[38;5;241m=\u001b[39m [target \u001b[38;5;28;01mfor\u001b[39;00m (_, target) \u001b[38;5;129;01min\u001b[39;00m neighbors[: \u001b[38;5;28mself\u001b[39m\u001b[38;5;241m.\u001b[39mk]]\n",
      "File \u001b[0;32m~/Desktop/3ano/2sem/Aprendizagem_Computacional I/SVM-Variation/knn.py:40\u001b[0m, in \u001b[0;36m<genexpr>\u001b[0;34m(.0)\u001b[0m\n\u001b[1;32m     37\u001b[0m \u001b[38;5;250m\u001b[39m\u001b[38;5;124;03m\"\"\"Predict the label of a single instance x.\"\"\"\u001b[39;00m\n\u001b[1;32m     39\u001b[0m \u001b[38;5;66;03m# compute distances between x and all examples in the training set.\u001b[39;00m\n\u001b[0;32m---> 40\u001b[0m distances \u001b[38;5;241m=\u001b[39m (\u001b[38;5;28;43mself\u001b[39;49m\u001b[38;5;241;43m.\u001b[39;49m\u001b[43mdistance_func\u001b[49m\u001b[43m(\u001b[49m\u001b[43mx\u001b[49m\u001b[43m,\u001b[49m\u001b[43m \u001b[49m\u001b[43mexample\u001b[49m\u001b[43m)\u001b[49m \u001b[38;5;28;01mfor\u001b[39;00m example \u001b[38;5;129;01min\u001b[39;00m \u001b[38;5;28mself\u001b[39m\u001b[38;5;241m.\u001b[39mX)\n\u001b[1;32m     42\u001b[0m \u001b[38;5;66;03m# Sort all examples by their distance to x and keep their target value.\u001b[39;00m\n\u001b[1;32m     43\u001b[0m neighbors \u001b[38;5;241m=\u001b[39m \u001b[38;5;28msorted\u001b[39m(((dist, target) \u001b[38;5;28;01mfor\u001b[39;00m (dist, target) \u001b[38;5;129;01min\u001b[39;00m \u001b[38;5;28mzip\u001b[39m(distances, \u001b[38;5;28mself\u001b[39m\u001b[38;5;241m.\u001b[39my)), key\u001b[38;5;241m=\u001b[39m\u001b[38;5;28;01mlambda\u001b[39;00m x: x[\u001b[38;5;241m0\u001b[39m])\n",
      "File \u001b[0;32m~/pythonEnv/ac/lib/python3.11/site-packages/scipy/spatial/distance.py:520\u001b[0m, in \u001b[0;36meuclidean\u001b[0;34m(u, v, w)\u001b[0m\n\u001b[1;32m    484\u001b[0m \u001b[38;5;28;01mdef\u001b[39;00m \u001b[38;5;21meuclidean\u001b[39m(u, v, w\u001b[38;5;241m=\u001b[39m\u001b[38;5;28;01mNone\u001b[39;00m):\n\u001b[1;32m    485\u001b[0m \u001b[38;5;250m    \u001b[39m\u001b[38;5;124;03m\"\"\"\u001b[39;00m\n\u001b[1;32m    486\u001b[0m \u001b[38;5;124;03m    Computes the Euclidean distance between two 1-D arrays.\u001b[39;00m\n\u001b[1;32m    487\u001b[0m \n\u001b[0;32m   (...)\u001b[0m\n\u001b[1;32m    518\u001b[0m \n\u001b[1;32m    519\u001b[0m \u001b[38;5;124;03m    \"\"\"\u001b[39;00m\n\u001b[0;32m--> 520\u001b[0m     \u001b[38;5;28;01mreturn\u001b[39;00m \u001b[43mminkowski\u001b[49m\u001b[43m(\u001b[49m\u001b[43mu\u001b[49m\u001b[43m,\u001b[49m\u001b[43m \u001b[49m\u001b[43mv\u001b[49m\u001b[43m,\u001b[49m\u001b[43m \u001b[49m\u001b[43mp\u001b[49m\u001b[38;5;241;43m=\u001b[39;49m\u001b[38;5;241;43m2\u001b[39;49m\u001b[43m,\u001b[49m\u001b[43m \u001b[49m\u001b[43mw\u001b[49m\u001b[38;5;241;43m=\u001b[39;49m\u001b[43mw\u001b[49m\u001b[43m)\u001b[49m\n",
      "File \u001b[0;32m~/pythonEnv/ac/lib/python3.11/site-packages/scipy/spatial/distance.py:480\u001b[0m, in \u001b[0;36mminkowski\u001b[0;34m(u, v, p, w)\u001b[0m\n\u001b[1;32m    478\u001b[0m         root_w \u001b[38;5;241m=\u001b[39m np\u001b[38;5;241m.\u001b[39mpower(w, \u001b[38;5;241m1\u001b[39m\u001b[38;5;241m/\u001b[39mp)\n\u001b[1;32m    479\u001b[0m     u_v \u001b[38;5;241m=\u001b[39m root_w \u001b[38;5;241m*\u001b[39m u_v\n\u001b[0;32m--> 480\u001b[0m dist \u001b[38;5;241m=\u001b[39m \u001b[43mnorm\u001b[49m\u001b[43m(\u001b[49m\u001b[43mu_v\u001b[49m\u001b[43m,\u001b[49m\u001b[43m \u001b[49m\u001b[38;5;28;43mord\u001b[39;49m\u001b[38;5;241;43m=\u001b[39;49m\u001b[43mp\u001b[49m\u001b[43m)\u001b[49m\n\u001b[1;32m    481\u001b[0m \u001b[38;5;28;01mreturn\u001b[39;00m dist\n",
      "File \u001b[0;32m~/pythonEnv/ac/lib/python3.11/site-packages/scipy/linalg/_misc.py:17\u001b[0m, in \u001b[0;36mnorm\u001b[0;34m(a, ord, axis, keepdims, check_finite)\u001b[0m\n\u001b[1;32m     10\u001b[0m \u001b[38;5;250m    \u001b[39m\u001b[38;5;124;03m\"\"\"\u001b[39;00m\n\u001b[1;32m     11\u001b[0m \u001b[38;5;124;03m    The warning emitted when a linear algebra related operation is close\u001b[39;00m\n\u001b[1;32m     12\u001b[0m \u001b[38;5;124;03m    to fail conditions of the algorithm or loss of accuracy is expected.\u001b[39;00m\n\u001b[1;32m     13\u001b[0m \u001b[38;5;124;03m    \"\"\"\u001b[39;00m\n\u001b[1;32m     14\u001b[0m     \u001b[38;5;28;01mpass\u001b[39;00m\n\u001b[0;32m---> 17\u001b[0m \u001b[38;5;28;01mdef\u001b[39;00m \u001b[38;5;21mnorm\u001b[39m(a, \u001b[38;5;28mord\u001b[39m\u001b[38;5;241m=\u001b[39m\u001b[38;5;28;01mNone\u001b[39;00m, axis\u001b[38;5;241m=\u001b[39m\u001b[38;5;28;01mNone\u001b[39;00m, keepdims\u001b[38;5;241m=\u001b[39m\u001b[38;5;28;01mFalse\u001b[39;00m, check_finite\u001b[38;5;241m=\u001b[39m\u001b[38;5;28;01mTrue\u001b[39;00m):\n\u001b[1;32m     18\u001b[0m \u001b[38;5;250m    \u001b[39m\u001b[38;5;124;03m\"\"\"\u001b[39;00m\n\u001b[1;32m     19\u001b[0m \u001b[38;5;124;03m    Matrix or vector norm.\u001b[39;00m\n\u001b[1;32m     20\u001b[0m \n\u001b[0;32m   (...)\u001b[0m\n\u001b[1;32m    142\u001b[0m \n\u001b[1;32m    143\u001b[0m \u001b[38;5;124;03m    \"\"\"\u001b[39;00m\n\u001b[1;32m    144\u001b[0m     \u001b[38;5;66;03m# Differs from numpy only in non-finite handling and the use of blas.\u001b[39;00m\n",
      "\u001b[0;31mKeyboardInterrupt\u001b[0m: "
     ]
    }
   ],
   "source": [
    "#train_plot(X_train, y_train, model, 0, 1)"
   ]
  }
 ],
 "metadata": {
  "kernelspec": {
   "display_name": "ac",
   "language": "python",
   "name": "python3"
  },
  "language_info": {
   "codemirror_mode": {
    "name": "ipython",
    "version": 3
   },
   "file_extension": ".py",
   "mimetype": "text/x-python",
   "name": "python",
   "nbconvert_exporter": "python",
   "pygments_lexer": "ipython3",
   "version": "3.11.4"
  }
 },
 "nbformat": 4,
 "nbformat_minor": 2
}
