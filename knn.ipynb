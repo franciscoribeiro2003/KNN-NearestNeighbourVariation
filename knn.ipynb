{
 "cells": [
  {
   "cell_type": "markdown",
   "metadata": {},
   "source": [
    "#### ***Imports***"
   ]
  },
  {
   "cell_type": "code",
   "execution_count": 256,
   "metadata": {},
   "outputs": [],
   "source": [
    "from sklearn.model_selection import train_test_split\n",
    "from sklearn.model_selection import KFold\n",
    "from sklearn.model_selection import cross_val_score\n",
    "from sklearn.preprocessing import StandardScaler\n",
    "from sklearn.pipeline import Pipeline\n",
    "from sklearn.metrics import accuracy_score\n",
    "from sklearn.neighbors import LocalOutlierFactor\n",
    "from sklearn.ensemble import IsolationForest\n",
    "from scipy.spatial.distance import euclidean, cityblock, cosine\n",
    "from collections import Counter, defaultdict\n",
    "\n",
    "import auxiliarfunctions as af\n",
    "import knn.knn as neighbors\n",
    "import numpy as np"
   ]
  },
  {
   "cell_type": "markdown",
   "metadata": {},
   "source": [
    "#### ***Loading the Datasets***"
   ]
  },
  {
   "cell_type": "markdown",
   "metadata": {},
   "source": [
    "The datasets used in this notebook are extracted from OpenMl"
   ]
  },
  {
   "cell_type": "code",
   "execution_count": 257,
   "metadata": {},
   "outputs": [],
   "source": [
    "datasets = []                                        # list of datasets that store tuples X, y\n",
    "dataCrossVal = []                                    # list of tuples X, y\n",
    "\n",
    "ids = [37,43465,61,40983,44,59,458,187,54,1464,1491,334] #[37,163,40498,187,41,1527,40983] #,1459\n",
    "datasets_name = [\n",
    "                 \"Diabetes\",                         # list of datasets names\n",
    "                 \"Boston-house-price-data\",\n",
    "                 \"Iris\",\n",
    "                 \"Wilt\",\n",
    "                 \"Spambase\",\n",
    "                 \"59\",\n",
    "                 \"458\",\n",
    "                 \"Wine Quality \",\n",
    "                 \"Vehicle\",\n",
    "                 \"Blood-transfusion-service-center\",\n",
    "                 \"One-hundred-plants-margin\",\n",
    "                 \"Monks-problems-2\"\n",
    "                ]\n",
    "\n",
    "# Fetch and prepare the datasets\n",
    "for i in ids:\n",
    "    datasets.append(af.fetch_and_prepare_dataset(i))\n"
   ]
  },
  {
   "cell_type": "markdown",
   "metadata": {},
   "source": [
    "#### ***Visualização dos datasets***"
   ]
  },
  {
   "cell_type": "markdown",
   "metadata": {},
   "source": [
    "To help visualize the data, we used PCA to reduce the dimensionality of the data to 2D"
   ]
  },
  {
   "cell_type": "code",
   "execution_count": 258,
   "metadata": {},
   "outputs": [
    {
     "data": {
      "image/png": "[encoded data removed]",
      "text/plain": [
       "<Figure size 800x600 with 2 Axes>"
      ]
     },
     "metadata": {},
     "output_type": "display_data"
    }
   ],
   "source": [
    "for i in range(len(ids)):\n",
    "    af.apply_pca_and_plot_with_encoding(datasets[i][0], datasets[i][1],datasets_name[i])"
   ]
  },
  {
   "cell_type": "markdown",
   "metadata": {},
   "source": [
    "#### ***Modificaçoes do knn***"
   ]
  },
  {
   "cell_type": "code",
   "execution_count": 259,
   "metadata": {},
   "outputs": [],
   "source": [
    "class BaseEstimatorModified:\n",
    "    y_required = True\n",
    "    fit_required = True\n",
    "    def __init__(self, outlier_detector = None):\n",
    "        self.outlier_detector = outlier_detector\n",
    "    \n",
    "\n",
    "    def _setup_input(self, X, y=None):\n",
    "        \"\"\"Ensure inputs to an estimator are in the expected format.\n",
    "\n",
    "        Ensures X and y are stored as numpy ndarrays by converting from an\n",
    "        array-like object if necessary. Enables estimators to define whether\n",
    "        they require a set of y target values or not with y_required, e.g.\n",
    "        kmeans clustering requires no target labels and is fit against only X.\n",
    "\n",
    "        Parameters\n",
    "        ----------\n",
    "        X : array-like\n",
    "            Feature dataset.\n",
    "        y : array-like\n",
    "            Target values. By default is required, but if y_required = false\n",
    "            then may be omitted.\n",
    "        \"\"\"\n",
    "        #modificaçao\n",
    "        anomaly_detector = self.outlier_detector\n",
    "        anomaly_detector.fit(X) \n",
    "        \n",
    "        if hasattr(anomaly_detector, 'negative_outlier_factor_'): # LOF\n",
    "            weight = anomaly_detector.negative_outlier_factor_\n",
    "        else:\n",
    "            weight = anomaly_detector.score_samples(X)\n",
    "\n",
    "        # -> colocar entre 0 e 1, onde 0 é 100% oulier e 1 é 100% um ponto normal\n",
    "        if max(weight) == min(weight):\n",
    "            self.weight = (weight - min(weight))\n",
    "        else: \n",
    "            self.weight = (weight - min(weight)) / (max(weight) - min(weight))\n",
    "\n",
    "        if not isinstance(X, np.ndarray):\n",
    "            X = np.array(X)\n",
    "\n",
    "        if X.size == 0:\n",
    "            raise ValueError(\"Got an empty matrix.\")\n",
    "\n",
    "        if X.ndim == 1:\n",
    "            self.n_samples, self.n_features = 1, X.shape\n",
    "        else:\n",
    "            self.n_samples, self.n_features = X.shape[0], np.prod(X.shape[1:])\n",
    "\n",
    "        self.X = X\n",
    "\n",
    "        if self.y_required:\n",
    "            if y is None:\n",
    "                raise ValueError(\"Missed required argument y\")\n",
    "\n",
    "            if not isinstance(y, np.ndarray):\n",
    "                y = np.array(y)\n",
    "\n",
    "            if y.size == 0:\n",
    "                raise ValueError(\"The targets array must be no-empty.\")\n",
    "\n",
    "        self.y = y\n",
    "\n",
    "    def fit(self, X, y=None):\n",
    "        self._setup_input(X, y)\n",
    "\n",
    "    def predict(self, X=None):\n",
    "        if not isinstance(X, np.ndarray):\n",
    "            X = np.array(X)\n",
    "\n",
    "        if self.X is not None or not self.fit_required:\n",
    "            return self._predict(X)\n",
    "        else:\n",
    "            raise ValueError(\"You must call `fit` before `predict`\")\n",
    "\n",
    "    def _predict(self, X=None):\n",
    "        raise NotImplementedError()\n",
    "    "
   ]
  },
  {
   "cell_type": "code",
   "execution_count": 260,
   "metadata": {},
   "outputs": [],
   "source": [
    "class KNNBaseModified(BaseEstimatorModified):\n",
    "    def __init__(self, k=5,  outlier_detector = None,distance_func = euclidean):\n",
    "        \"\"\"Base class for Nearest neighbors classifier and regressor.\n",
    "\n",
    "        Parameters\n",
    "        ----------\n",
    "        k : int, default 5\n",
    "            The number of neighbors to take into account. If 0, all the\n",
    "            training examples are used.\n",
    "        distance_func : function, default euclidean distance\n",
    "            A distance function taking two arguments. Any function from\n",
    "            scipy.spatial.distance will do.\n",
    "        \"\"\"\n",
    "        super().__init__(outlier_detector)\n",
    "        self.k = None if k == 0 else k  # l[:None] returns the whole list\n",
    "        self.distance_func = distance_func\n",
    "        \n",
    "    def aggregate(self):\n",
    "        raise NotImplementedError()\n",
    "\n",
    "    def _predict(self, X=None):\n",
    "\n",
    "        predictions = [self._predict_x(x) for x in X]  \n",
    "\n",
    "        return np.array(predictions)\n",
    "\n",
    "    def _predict_x(self, x):\n",
    "        \"\"\"Predict the label of a single instance x.\"\"\"\n",
    "\n",
    "        distances = (self.distance_func(x, example) for example in self.X)\n",
    "\n",
    "        # agrupa a distancia, target e o peso e depois ordena a lista de forma crescente em relaçao as distancias\n",
    "        neighbors = sorted(((dist, target,weigth) for (dist, target,weigth) in zip(distances, self.y, self.weight)), key=lambda x: x[0])\n",
    "\n",
    "        # reduz a lista para conter apenas os k valores mais proximos e modifica a lista para target e peso\n",
    "        neighbors_targets = [(target,weigth) for (_, target, weigth) in neighbors[: self.k]]\n",
    "\n",
    "        return self.aggregate(neighbors_targets, self.k)\n"
   ]
  },
  {
   "cell_type": "markdown",
   "metadata": {},
   "source": [
    "#### ***Without assigning a value related to the approximation to the new point***"
   ]
  },
  {
   "cell_type": "code",
   "execution_count": 261,
   "metadata": {},
   "outputs": [],
   "source": [
    "class KNNClassifierWithoutImportance(KNNBaseModified):\n",
    "    \"\"\"Nearest neighbors classifier.\n",
    "\n",
    "    Note: if there is a tie for the most common label among the neighbors, then\n",
    "    the predicted label is arbitrary.\"\"\"\n",
    "\n",
    "    def aggregate(self, neighbors_targets, size):\n",
    "        \"\"\"Return the most common target label.\"\"\"          \n",
    "\n",
    "        weighted_dict = defaultdict(float)\n",
    "\n",
    "        for target, weight in neighbors_targets:  \n",
    "            weighted_dict[target] += weight # value from LOF or IF\n",
    "            \n",
    "        weighted_dict = dict(weighted_dict)\n",
    "\n",
    "        max_target = max(weighted_dict.items(), key=lambda item: item[1])\n",
    "        \n",
    "        max_target_key, _ = max_target\n",
    "\n",
    "        return max_target_key"
   ]
  },
  {
   "cell_type": "markdown",
   "metadata": {},
   "source": [
    "#### ***Assigning a value related to the approximation to the new point***"
   ]
  },
  {
   "cell_type": "code",
   "execution_count": 262,
   "metadata": {},
   "outputs": [],
   "source": [
    "class KNNClassifierModefied(KNNBaseModified):\n",
    "    \"\"\"Nearest neighbors classifier.\n",
    "\n",
    "    Note: if there is a tie for the most common label among the neighbors, then\n",
    "    the predicted label is arbitrary.\"\"\"\n",
    "\n",
    "    def aggregate(self, neighbors_targets, size):\n",
    "        \"\"\"Return the most common target label.\"\"\"\n",
    "        n = size           \n",
    "\n",
    "        weighted_dict = defaultdict(float)\n",
    "\n",
    "        for target, weight in neighbors_targets:  \n",
    "            weighted_dict[target] += ((n*weight)/size) \n",
    "            n -= 1\n",
    "            \n",
    "        weighted_dict = dict(weighted_dict)\n",
    "\n",
    "        max_target = max(weighted_dict.items(), key=lambda item: item[1])\n",
    "        \n",
    "        max_target_key, _ = max_target\n",
    "\n",
    "        return max_target_key"
   ]
  },
  {
   "cell_type": "markdown",
   "metadata": {},
   "source": [
    "#### ***Classification***"
   ]
  },
  {
   "cell_type": "markdown",
   "metadata": {},
   "source": [
    "The classification is done using the KNN algorithm, we still used the unmofied version of the algorithm to classify the data so we can have a baseline to compare the results with. We also use the assignment of a weight related to the approximation of the points to the new data point to compare whether this method improves the result or not."
   ]
  },
  {
   "cell_type": "code",
   "execution_count": 263,
   "metadata": {},
   "outputs": [],
   "source": [
    "classifiers = [Pipeline([('classifier', neighbors.KNNClassifier(k=5))]),\n",
    "               Pipeline([('classifier', KNNClassifierWithoutImportance(k=5, outlier_detector = IsolationForest(contamination=0.1)))]),\n",
    "               Pipeline([('classifier', KNNClassifierWithoutImportance(k=5, outlier_detector = LocalOutlierFactor(n_neighbors=20)))]),\n",
    "               Pipeline([('classifier', KNNClassifierModefied(k=5, outlier_detector = IsolationForest(contamination=0.1)))]),\n",
    "               Pipeline([('classifier', KNNClassifierModefied(k=5, outlier_detector = LocalOutlierFactor(n_neighbors=20)))])\n",
    "               ]\n",
    "classifiers_names = ['KNN', 'KNN Modified with Isolation Forest without importance', 'KNN Modified with Local Outlier Factor without importance', 'KNN Modified with Isolation Forest', 'KNN Modified with Local Outlier Factor']\n",
    "\n"
   ]
  },
  {
   "cell_type": "code",
   "execution_count": 264,
   "metadata": {},
   "outputs": [],
   "source": [
    "kf_5 = KFold(n_splits=5, shuffle=True, random_state=1)\n",
    "kf_10 = KFold(n_splits=10, shuffle=True, random_state=1)"
   ]
  },
  {
   "cell_type": "code",
   "execution_count": 265,
   "metadata": {},
   "outputs": [],
   "source": [
    "def perform_cross_validation(classifier, X, y):\n",
    "    scores_5 = cross_val_score(classifier, X, y, cv=kf_5, scoring='accuracy')\n",
    "    scores_10 = cross_val_score(classifier, X, y, cv=kf_10, scoring='accuracy')\n",
    "\n",
    "    return np.mean(scores_5), np.mean(scores_10)"
   ]
  },
  {
   "cell_type": "markdown",
   "metadata": {},
   "source": [
    "#### ***Results***"
   ]
  },
  {
   "cell_type": "code",
   "execution_count": 266,
   "metadata": {},
   "outputs": [
    {
     "name": "stdout",
     "output_type": "stream",
     "text": [
      "Accuracy for dataset Vehicle:\n",
      "- classifier KNN with 5 splits: 0.4\n",
      "- classifier KNN with 10 splits: 0.4\n",
      "- classifier KNN Modified with Isolation Forest without importance with 5 splits: 0.4\n",
      "- classifier KNN Modified with Isolation Forest without importance with 10 splits: 0.5\n",
      "- classifier KNN Modified with Local Outlier Factor without importance with 5 splits: 0.4\n",
      "- classifier KNN Modified with Local Outlier Factor without importance with 10 splits: 0.4\n",
      "- classifier KNN Modified with Isolation Forest with 5 splits: 0.4\n",
      "- classifier KNN Modified with Isolation Forest with 10 splits: 0.5\n",
      "- classifier KNN Modified with Local Outlier Factor with 5 splits: 0.4\n",
      "- classifier KNN Modified with Local Outlier Factor with 10 splits: 0.4\n"
     ]
    }
   ],
   "source": [
    "for i in range(len(datasets)):\n",
    "    print(f'Accuracy for dataset {datasets_name[i]}:')\n",
    "    for classifier, classifier_name in zip(classifiers, classifiers_names):\n",
    "        accuracy_5, accuracy_10  = perform_cross_validation(classifier, datasets[i][0], datasets[i][1])\n",
    "        print(f'- classifier {classifier_name} with 5 splits: {accuracy_5}')\n",
    "        print(f'- classifier {classifier_name} with 10 splits: {accuracy_10}')"
   ]
  }
 ],
 "metadata": {
  "kernelspec": {
   "display_name": "Python 3",
   "language": "python",
   "name": "python3"
  },
  "language_info": {
   "codemirror_mode": {
    "name": "ipython",
    "version": 3
   },
   "file_extension": ".py",
   "mimetype": "text/x-python",
   "name": "python",
   "nbconvert_exporter": "python",
   "pygments_lexer": "ipython3",
   "version": "3.11.8"
  }
 },
 "nbformat": 4,
 "nbformat_minor": 2
}
